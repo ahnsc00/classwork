{
 "cells": [
  {
   "cell_type": "markdown",
   "id": "a9fa1045",
   "metadata": {},
   "source": [
    "## holdout"
   ]
  },
  {
   "cell_type": "code",
   "execution_count": 41,
   "id": "dc343010",
   "metadata": {
    "scrolled": true
   },
   "outputs": [
    {
     "name": "stdout",
     "output_type": "stream",
     "text": [
      "예측 결과 :  [0 0 0 0 0 0 0 1 0 1 0 0 0 0 0 0 0 0 1 0 0 1 0 1 0 1 0 0 0 0 0 0 1 0 0 0 0\n",
      " 0 0 1 0 0 0 0 1 0 0 1 0 1 1 0 0 1 1 0 0 0 1 0 0 1 0 0 0 1 0 0 0 0 1 0 0 0\n",
      " 0 0 0 0 1 1 1 1 0 0 1 0 0 1 0 0 0 1 0 0 0 0 0 1 1 1 0 1 0 1 1 1 0 0 0 0 0\n",
      " 0 0 1 1 1 1 0 1 1]\n",
      "예측 정확도 :  0.8916666666666667\n"
     ]
    }
   ],
   "source": [
    "from sklearn.naive_bayes import GaussianNB\n",
    "from sklearn import datasets\n",
    "from sklearn.model_selection import train_test_split\n",
    "from sklearn.metrics import confusion_matrix\n",
    "import matplotlib.pyplot as plt\n",
    "from sklearn.model_selection import KFold\n",
    "from sklearn.metrics import roc_curve, roc_auc_score\n",
    "from sklearn.metrics import accuracy_score\n",
    "\n",
    "import pandas as pd\n",
    "import numpy as np\n",
    "\n",
    "#\n",
    "def replace(df):\n",
    "    df = df.replace(['Male', 'Female'], [1, 0])\n",
    "    return df\n",
    "    \n",
    "df = pd.read_csv('./Social_Network_Ads.csv')\n",
    "res = replace(df)\n",
    "\n",
    "X = res[['Gender', 'Age', 'EstimatedSalary']]\n",
    "y = res['Purchased']\n",
    "\n",
    "X_train, X_test, y_train, y_test = train_test_split(X, y, test_size=0.3, random_state=0)\n",
    "\n",
    "model = GaussianNB()\n",
    "model.fit(X_train, y_train)\n",
    "\n",
    "predicted = model.predict(X_test)\n",
    "\n",
    "print('예측 결과 : ', predicted)\n",
    "print('예측 정확도 : ', accuracy_score(y_test, predicted))"
   ]
  },
  {
   "cell_type": "markdown",
   "id": "aaebf09f",
   "metadata": {},
   "source": [
    "## 10-fold validation"
   ]
  },
  {
   "cell_type": "code",
   "execution_count": 38,
   "id": "a684c424",
   "metadata": {},
   "outputs": [
    {
     "name": "stdout",
     "output_type": "stream",
     "text": [
      "평균 정확도 : 0.8550000000000001\n",
      "분산 : 0.009850000000000003\n"
     ]
    }
   ],
   "source": [
    "k = 10\n",
    "cv = KFold(k)\n",
    "accuracy_history = []\n",
    "\n",
    "for i, (train_data_row, test_data_row) in enumerate(cv.split(res)):\n",
    "    df_train = res.iloc[train_data_row]\n",
    "    df_test = res.iloc[test_data_row]\n",
    "    \n",
    "    X_train = df_train[['Gender', 'Age', 'EstimatedSalary']]\n",
    "    y_train = df_train['Purchased']\n",
    "    X_test = df_test[['Gender', 'Age', 'EstimatedSalary']]\n",
    "    y_test = df_test['Purchased']\n",
    "    \n",
    "    model = GaussianNB()\n",
    "    model.fit(X_train, y_train)\n",
    "    \n",
    "    predicted = model.predict(X_test)\n",
    "    accuracy_history.append(accuracy_score(y_test, predicted))\n",
    "    \n",
    "accuracy_mean = np.mean(accuracy_history)\n",
    "accuracy_var = np.var(accuracy_history) \n",
    "print('평균 정확도 :', accuracy_mean)\n",
    "print('분산 :', accuracy_var)"
   ]
  },
  {
   "cell_type": "markdown",
   "id": "75851898",
   "metadata": {},
   "source": [
    "## roc curve, confusion matrix"
   ]
  },
  {
   "cell_type": "code",
   "execution_count": 43,
   "id": "0b950d57",
   "metadata": {},
   "outputs": [
    {
     "name": "stdout",
     "output_type": "stream",
     "text": [
      "auc_score :  0.9589379438098178\n"
     ]
    },
    {
     "data": {
      "text/plain": [
       "<matplotlib.legend.Legend at 0x29a2f1ab3d0>"
      ]
     },
     "execution_count": 43,
     "metadata": {},
     "output_type": "execute_result"
    },
    {
     "data": {
      "image/png": "[encoded data removed]",
      "text/plain": [
       "<Figure size 432x288 with 1 Axes>"
      ]
     },
     "metadata": {
      "needs_background": "light"
     },
     "output_type": "display_data"
    }
   ],
   "source": [
    "pred_prob = model.predict_proba(X_test)[:,1]\n",
    "false_positive_rate, true_positive_rate, thresholds = roc_curve(y_test, pred_prob)\n",
    "roc_auc = roc_auc_score(y_test, pred_prob)\n",
    "\n",
    "print(\"auc_score : \",roc_auc)\n",
    "\n",
    "plt.plot(false_positive_rate, true_positive_rate, label = 'ROC curve (area = %0.2f)' %roc_auc, color='red')\n",
    "plt.plot([0, 1], [0, 1], 'k--')\n",
    "plt.xlabel('false positive rate')\n",
    "plt.ylabel('talse positive rate')\n",
    "plt.legend()"
   ]
  },
  {
   "cell_type": "code",
   "execution_count": 44,
   "id": "1d06417d",
   "metadata": {},
   "outputs": [
    {
     "name": "stdout",
     "output_type": "stream",
     "text": [
      "precision: 0.94\n",
      "recall: 0.90\n",
      "sensitivity: 0.90\n",
      "specificity: 0.87\n"
     ]
    }
   ],
   "source": [
    "matrix = confusion_matrix(predicted, y_test)\n",
    "TP = matrix[0][0]\n",
    "FN = matrix[0][1]\n",
    "FP = matrix[1][0]\n",
    "TN = matrix[1][1]\n",
    "\n",
    "precision = TP / (TP + FP)\n",
    "recall = TP / (TP + FN)\n",
    "sensitivity = TP / (TP + FN)\n",
    "specificity = TN / (TN + FP)\n",
    "\n",
    "print(\"precision: %.2f\" %precision)\n",
    "print(\"recall: %.2f\" %recall)\n",
    "print(\"sensitivity: %.2f\" %sensitivity)\n",
    "print(\"specificity: %.2f\" %specificity)"
   ]
  }
 ],
 "metadata": {
  "kernelspec": {
   "display_name": "Python 3",
   "language": "python",
   "name": "python3"
  },
  "language_info": {
   "codemirror_mode": {
    "name": "ipython",
    "version": 3
   },
   "file_extension": ".py",
   "mimetype": "text/x-python",
   "name": "python",
   "nbconvert_exporter": "python",
   "pygments_lexer": "ipython3",
   "version": "3.8.8"
  }
 },
 "nbformat": 4,
 "nbformat_minor": 5
}
