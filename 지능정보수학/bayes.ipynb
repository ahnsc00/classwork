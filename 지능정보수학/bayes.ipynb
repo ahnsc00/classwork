{
 "cells": [
  {
   "cell_type": "code",
   "execution_count": 67,
   "id": "5dea102c",
   "metadata": {},
   "outputs": [
    {
     "name": "stdout",
     "output_type": "stream",
     "text": [
      "[False]\n"
     ]
    }
   ],
   "source": [
    "from sklearn.naive_bayes import GaussianNB\n",
    "from sklearn import datasets\n",
    "\n",
    "import pandas as pd\n",
    "import numpy as np\n",
    "\n",
    "#\n",
    "def replace(df):\n",
    "    df = df.replace(['paid', 'current', 'arrears'], [2, 1, 0])  # history\n",
    "    df = df.replace(['none', 'guarantor', 'coapplicant'], [0, 1, 1])  # coapp\n",
    "    df = df.replace(['coapplicant'], [1])  #\n",
    "    df = df.replace(['rent', 'own'], [0, 1])  # accomodation\n",
    "    df = df.replace(['False', 'True'], [0, 1])  # fraud -> Y\n",
    "    df = df.replace(['none'], [float('NaN')])  # 결측값\n",
    "    df = df.replace(['free'], [-1])  # accomodation\n",
    "    return df\n",
    "    \n",
    "df = pd.read_csv('./fraud_data.csv')\n",
    "res = replace(df)\n",
    "\n",
    "history = res['History']             # 무엇이 들어갈까요?\n",
    "coapplicant = res['CoApplicant']     # 무엇이 들어갈까요?\n",
    "accommodation = res['Accommodation'] # 무엇이 들어갈까요?\n",
    "\n",
    "X = np.array(list(zip(history, coapplicant, accommodation)))# history, coapplicant, accommodation을 이용하여 학습 데이터를 구축하시오.\n",
    "Y = np.array(res['Fraud'])# 무엇이 들어갈까요?\n",
    "\n",
    "model = GaussianNB()\n",
    "model.fit(X, Y)\n",
    "predicted = model.predict([[2, 0, 0]])\n",
    "#pred_prob = model.predict_proba(X)\n",
    "\n",
    "print (predicted)"
   ]
  },
  {
   "cell_type": "code",
   "execution_count": 69,
   "id": "5737418a",
   "metadata": {
    "scrolled": true
   },
   "outputs": [
    {
     "name": "stdout",
     "output_type": "stream",
     "text": [
      "[False False False False False]\n",
      "0.638109305760709\n",
      "0.36189069423929104\n",
      "\n",
      "0.5950413223140496\n",
      "0.4049586776859504\n",
      "\n",
      "0.5242718446601942\n",
      "0.47572815533980584\n",
      "\n",
      "0.7518987341772152\n",
      "0.24810126582278483\n",
      "\n",
      "0.7518987341772152\n",
      "0.24810126582278483\n",
      "\n"
     ]
    }
   ],
   "source": [
    "_test = pd.DataFrame([['paid', 'none', 'rent'], ['paid', 'guarantor', 'rent'], ['arrears', 'guarantor',\n",
    "'rent'], ['arrears', 'guarantor', 'own'], ['arrears', 'coapplicant', 'own']])\n",
    "test = replace(_test)\n",
    "\n",
    "print(model.predict(test))\n",
    "\n",
    "tr = res[res['Fraud'] == True]\n",
    "fr = res[res['Fraud'] == False]\n",
    "for i, mem in test.iterrows():\n",
    "    this = len(tr[tr['History'] == mem[0]])/len(tr)\n",
    "    tcoa = len(tr[tr['CoApplicant'] == mem[1]])/len(tr)\n",
    "    tacc = len(tr[tr['Accommodation'] == mem[2]])/len(tr)\n",
    "    \n",
    "    fhis = len(fr[fr['History'] == mem[0]])/len(fr)\n",
    "    fcoa = len(fr[fr['CoApplicant'] == mem[1]])/len(fr)\n",
    "    facc = len(fr[fr['Accommodation'] == mem[2]])/len(fr)\n",
    "    \n",
    "    prior = len(tr)/len(res)\n",
    "    print(fhis*fcoa*facc*(1-prior) / ((this*tcoa*tacc*prior) + (fhis*fcoa*facc*(1-prior))))\n",
    "    print(this*tcoa*tacc*prior / ((this*tcoa*tacc*prior) + (fhis*fcoa*facc*(1-prior))))\n",
    "    print('')"
   ]
  }
 ],
 "metadata": {
  "kernelspec": {
   "display_name": "Python 3",
   "language": "python",
   "name": "python3"
  },
  "language_info": {
   "codemirror_mode": {
    "name": "ipython",
    "version": 3
   },
   "file_extension": ".py",
   "mimetype": "text/x-python",
   "name": "python",
   "nbconvert_exporter": "python",
   "pygments_lexer": "ipython3",
   "version": "3.8.8"
  }
 },
 "nbformat": 4,
 "nbformat_minor": 5
}
