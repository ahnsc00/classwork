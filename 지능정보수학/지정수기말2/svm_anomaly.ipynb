{
 "cells": [
  {
   "cell_type": "code",
   "execution_count": 14,
   "id": "8d1c663a",
   "metadata": {},
   "outputs": [
    {
     "name": "stdout",
     "output_type": "stream",
     "text": [
      "anomaly detection 5\n",
      "anomaly detection 9\n",
      "anomaly detection 16\n"
     ]
    },
    {
     "data": {
      "image/png": "[encoded data removed]",
      "text/plain": [
       "<Figure size 432x288 with 2 Axes>"
      ]
     },
     "metadata": {
      "needs_background": "light"
     },
     "output_type": "display_data"
    }
   ],
   "source": [
    "from sklearn.svm import OneClassSVM\n",
    "import numpy as np\n",
    "import matplotlib.pyplot as plt\n",
    "\n",
    "def make_svmdata_from_file(fname):\n",
    "    dlist = []\n",
    "    fp = open(fname,\"r\")\n",
    "    for line in fp:\n",
    "        tmp = []\n",
    "        line = line.strip(\"\\r\\n\")\n",
    "        psd = line.split(\",\")\n",
    "        for td in psd:\n",
    "            if len(tmp) >= 4: break ## valid dimension\n",
    "            tmp.append(float(td))\n",
    "        dlist.append(tmp)\n",
    "    fp.close()\n",
    "    return dlist    \n",
    "    \n",
    "#1. read svm input ( train, test)\n",
    "train = make_svmdata_from_file(\"p.train\")\n",
    "test = make_svmdata_from_file(\"p.train\")\n",
    "\n",
    "#2. svm test\n",
    "X_train = np.array(train)\n",
    "X_test = np.array(test)\n",
    "\n",
    "anomalymodel = OneClassSVM(nu=0.12, kernel='rbf', gamma=0.1)\n",
    "anomalymodel.fit(X_train)\n",
    "p = anomalymodel.predict(X_test)\n",
    "\n",
    "pos=0\n",
    "for pd in p:\n",
    "    pos += 1\n",
    "    if pd == -1:\n",
    "        print (\"anomaly detection\", pos - 1)\n",
    "\n",
    "#3. ploting\n",
    "plt.subplot(2,1,1)\n",
    "plt.plot(X_train)\n",
    "plt.subplot(2,1,2)\n",
    "plt.plot(X_test)\n",
    "plt.show()\n"
   ]
  },
  {
   "cell_type": "code",
   "execution_count": 10,
   "id": "ae5f4adf",
   "metadata": {},
   "outputs": [
    {
     "data": {
      "text/plain": [
       "[[0.926, 0.034, 0.023, 0.005],\n",
       " [0.906, 0.049, 0.03, 0.003],\n",
       " [0.92, 0.04, 0.027, 0.003],\n",
       " [0.912, 0.048, 0.026, 0.002],\n",
       " [0.915, 0.039, 0.029, 0.003],\n",
       " [0.977, 0.013, 0.006, 0.001],\n",
       " [0.906, 0.042, 0.035, 0.004],\n",
       " [0.923, 0.037, 0.024, 0.003],\n",
       " [0.5, 0.244, 0.15, 0.072],\n",
       " [0.248, 0.349, 0.234, 0.113],\n",
       " [0.325, 0.368, 0.186, 0.085],\n",
       " [0.298, 0.34, 0.21, 0.105],\n",
       " [0.296, 0.34, 0.207, 0.106],\n",
       " [0.38, 0.296, 0.184, 0.091],\n",
       " [0.354, 0.305, 0.2, 0.095],\n",
       " [0.288, 0.33, 0.222, 0.107],\n",
       " [0.255, 0.354, 0.226, 0.112]]"
      ]
     },
     "execution_count": 10,
     "metadata": {},
     "output_type": "execute_result"
    }
   ],
   "source": [
    "train"
   ]
  },
  {
   "cell_type": "code",
   "execution_count": 11,
   "id": "e3f7e9cc",
   "metadata": {},
   "outputs": [
    {
     "data": {
      "text/plain": [
       "array([ 1,  1,  1,  1,  1, -1,  1,  1,  1, -1,  1,  1,  1,  1,  1,  1, -1],\n",
       "      dtype=int64)"
      ]
     },
     "execution_count": 11,
     "metadata": {},
     "output_type": "execute_result"
    }
   ],
   "source": [
    "p"
   ]
  },
  {
   "cell_type": "code",
   "execution_count": null,
   "id": "d3b68aaa",
   "metadata": {},
   "outputs": [],
   "source": []
  }
 ],
 "metadata": {
  "kernelspec": {
   "display_name": "Python 3",
   "language": "python",
   "name": "python3"
  },
  "language_info": {
   "codemirror_mode": {
    "name": "ipython",
    "version": 3
   },
   "file_extension": ".py",
   "mimetype": "text/x-python",
   "name": "python",
   "nbconvert_exporter": "python",
   "pygments_lexer": "ipython3",
   "version": "3.8.8"
  }
 },
 "nbformat": 4,
 "nbformat_minor": 5
}
