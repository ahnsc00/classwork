{
 "cells": [
  {
   "cell_type": "code",
   "execution_count": 29,
   "id": "c87f0289",
   "metadata": {},
   "outputs": [],
   "source": [
    "import pandas as pd\n",
    "import numpy as np\n",
    "import matplotlib.pyplot as plt\n",
    "from sklearn.model_selection import train_test_split\n",
    "from sklearn import linear_model"
   ]
  },
  {
   "cell_type": "markdown",
   "id": "9b4d4ba2",
   "metadata": {},
   "source": [
    "### 독립변수는 petal_length 컬럼, 종속변수는 petal_width 컬럼으로 해보자."
   ]
  },
  {
   "cell_type": "markdown",
   "id": "8feb5214",
   "metadata": {},
   "source": [
    "### (1) DataFrame 생성"
   ]
  },
  {
   "cell_type": "code",
   "execution_count": 20,
   "id": "733b01c3",
   "metadata": {},
   "outputs": [],
   "source": [
    "file_name = \"https://archive.ics.uci.edu/ml/machine-learning-databases/iris/iris.data\"\n",
    "\n",
    "iris = pd.read_csv(file_name, names=[\"sepal_length\",\"sepal_width\",\"petal_length\", \"petal_width\",\"species\"])"
   ]
  },
  {
   "cell_type": "code",
   "execution_count": 22,
   "id": "91b44009",
   "metadata": {},
   "outputs": [
    {
     "data": {
      "text/html": [
       "<div>\n",
       "<style scoped>\n",
       "    .dataframe tbody tr th:only-of-type {\n",
       "        vertical-align: middle;\n",
       "    }\n",
       "\n",
       "    .dataframe tbody tr th {\n",
       "        vertical-align: top;\n",
       "    }\n",
       "\n",
       "    .dataframe thead th {\n",
       "        text-align: right;\n",
       "    }\n",
       "</style>\n",
       "<table border=\"1\" class=\"dataframe\">\n",
       "  <thead>\n",
       "    <tr style=\"text-align: right;\">\n",
       "      <th></th>\n",
       "      <th>petal_length</th>\n",
       "      <th>petal_width</th>\n",
       "    </tr>\n",
       "  </thead>\n",
       "  <tbody>\n",
       "    <tr>\n",
       "      <th>0</th>\n",
       "      <td>1.4</td>\n",
       "      <td>0.2</td>\n",
       "    </tr>\n",
       "    <tr>\n",
       "      <th>1</th>\n",
       "      <td>1.4</td>\n",
       "      <td>0.2</td>\n",
       "    </tr>\n",
       "    <tr>\n",
       "      <th>2</th>\n",
       "      <td>1.3</td>\n",
       "      <td>0.2</td>\n",
       "    </tr>\n",
       "    <tr>\n",
       "      <th>3</th>\n",
       "      <td>1.5</td>\n",
       "      <td>0.2</td>\n",
       "    </tr>\n",
       "    <tr>\n",
       "      <th>4</th>\n",
       "      <td>1.4</td>\n",
       "      <td>0.2</td>\n",
       "    </tr>\n",
       "    <tr>\n",
       "      <th>...</th>\n",
       "      <td>...</td>\n",
       "      <td>...</td>\n",
       "    </tr>\n",
       "    <tr>\n",
       "      <th>145</th>\n",
       "      <td>5.2</td>\n",
       "      <td>2.3</td>\n",
       "    </tr>\n",
       "    <tr>\n",
       "      <th>146</th>\n",
       "      <td>5.0</td>\n",
       "      <td>1.9</td>\n",
       "    </tr>\n",
       "    <tr>\n",
       "      <th>147</th>\n",
       "      <td>5.2</td>\n",
       "      <td>2.0</td>\n",
       "    </tr>\n",
       "    <tr>\n",
       "      <th>148</th>\n",
       "      <td>5.4</td>\n",
       "      <td>2.3</td>\n",
       "    </tr>\n",
       "    <tr>\n",
       "      <th>149</th>\n",
       "      <td>5.1</td>\n",
       "      <td>1.8</td>\n",
       "    </tr>\n",
       "  </tbody>\n",
       "</table>\n",
       "<p>150 rows × 2 columns</p>\n",
       "</div>"
      ],
      "text/plain": [
       "     petal_length  petal_width\n",
       "0             1.4          0.2\n",
       "1             1.4          0.2\n",
       "2             1.3          0.2\n",
       "3             1.5          0.2\n",
       "4             1.4          0.2\n",
       "..            ...          ...\n",
       "145           5.2          2.3\n",
       "146           5.0          1.9\n",
       "147           5.2          2.0\n",
       "148           5.4          2.3\n",
       "149           5.1          1.8\n",
       "\n",
       "[150 rows x 2 columns]"
      ]
     },
     "execution_count": 22,
     "metadata": {},
     "output_type": "execute_result"
    }
   ],
   "source": [
    "iris = iris[['petal_length', 'petal_width']]\n",
    "iris"
   ]
  },
  {
   "cell_type": "markdown",
   "id": "51c791d0",
   "metadata": {},
   "source": [
    "### (2) 회귀선 그래프"
   ]
  },
  {
   "cell_type": "code",
   "execution_count": 53,
   "id": "6c46ac6b",
   "metadata": {},
   "outputs": [],
   "source": [
    "train, test = train_test_split(iris, train_size=0.6)"
   ]
  },
  {
   "cell_type": "code",
   "execution_count": 54,
   "id": "54cd52c7",
   "metadata": {},
   "outputs": [],
   "source": [
    "xtrain = train.drop(['petal_width'],axis=1)\n",
    "ytrain = train['petal_width']\n",
    "xtest = test.drop(['petal_width'],axis=1)\n",
    "ytest = test['petal_width']"
   ]
  },
  {
   "cell_type": "code",
   "execution_count": 55,
   "id": "00633b6e",
   "metadata": {},
   "outputs": [],
   "source": [
    "regression = linear_model.LinearRegression()\n",
    "model = regression.fit(xtrain, ytrain)"
   ]
  },
  {
   "cell_type": "code",
   "execution_count": 56,
   "id": "2f348e5b",
   "metadata": {},
   "outputs": [
    {
     "data": {
      "text/plain": [
       "array([0.41915674])"
      ]
     },
     "execution_count": 56,
     "metadata": {},
     "output_type": "execute_result"
    }
   ],
   "source": [
    "model.coef_"
   ]
  },
  {
   "cell_type": "code",
   "execution_count": 57,
   "id": "ecd9cdd7",
   "metadata": {
    "scrolled": true
   },
   "outputs": [
    {
     "data": {
      "text/plain": [
       "-0.35864497979283994"
      ]
     },
     "execution_count": 57,
     "metadata": {},
     "output_type": "execute_result"
    }
   ],
   "source": [
    "model.intercept_"
   ]
  },
  {
   "cell_type": "markdown",
   "id": "effad6b6",
   "metadata": {},
   "source": [
    "#### x train에 대한 회귀선 그래프"
   ]
  },
  {
   "cell_type": "code",
   "execution_count": 81,
   "id": "20678458",
   "metadata": {
    "scrolled": false
   },
   "outputs": [
    {
     "data": {
      "text/plain": [
       "[<matplotlib.lines.Line2D at 0x213cad4e1f0>]"
      ]
     },
     "execution_count": 81,
     "metadata": {},
     "output_type": "execute_result"
    },
    {
     "data": {
      "image/png": "[encoded data removed]",
      "text/plain": [
       "<Figure size 432x288 with 1 Axes>"
      ]
     },
     "metadata": {
      "needs_background": "light"
     },
     "output_type": "display_data"
    }
   ],
   "source": [
    "%matplotlib inline\n",
    "\n",
    "fig=plt.figure()\n",
    "ax=fig.add_subplot(111)\n",
    "ax.scatter(xtrain,ytrain)\n",
    "ax.set_ylabel('petal_length') \n",
    "ax.set_xlabel('petal_width')\n",
    "ax.plot(xtrain,xtrain*model.coef_+model.intercept_)"
   ]
  },
  {
   "cell_type": "markdown",
   "id": "7d288e23",
   "metadata": {},
   "source": [
    "#### y test에 대한 회귀선 그래프"
   ]
  },
  {
   "cell_type": "code",
   "execution_count": 82,
   "id": "b60bd494",
   "metadata": {},
   "outputs": [
    {
     "data": {
      "text/plain": [
       "[<matplotlib.lines.Line2D at 0x213cad9d8e0>]"
      ]
     },
     "execution_count": 82,
     "metadata": {},
     "output_type": "execute_result"
    },
    {
     "data": {
      "image/png": "[encoded data removed]",
      "text/plain": [
       "<Figure size 432x288 with 1 Axes>"
      ]
     },
     "metadata": {
      "needs_background": "light"
     },
     "output_type": "display_data"
    }
   ],
   "source": [
    "fig=plt.figure()\n",
    "ax=fig.add_subplot(111)\n",
    "ax.scatter(xtest,ytest)\n",
    "ax.set_ylabel('petal_length') \n",
    "ax.set_xlabel('petal_width')\n",
    "ax.plot(xtest,xtest*model.coef_+model.intercept_)"
   ]
  },
  {
   "cell_type": "markdown",
   "id": "34e2c08c",
   "metadata": {},
   "source": [
    "### 3) Spark를 사용하여 회귀분석하고 계수 출력"
   ]
  },
  {
   "cell_type": "code",
   "execution_count": 35,
   "id": "28749fa4",
   "metadata": {},
   "outputs": [],
   "source": [
    "import pyspark\n",
    "import os\n",
    "\n",
    "os.environ[\"PYSPARK_PYTHON\"]='C:\\\\Users\\\\201910810\\\\Anaconda3\\\\python.exe'\n",
    "os.environ[\"PYSPARK_DRIVER_PYTHON\"]='C:\\\\Users\\\\201910810\\\\Anaconda3\\\\python.exe'\n",
    "\n",
    "myConf=pyspark.SparkConf()\n",
    "spark = pyspark.sql.SparkSession\\\n",
    "    .builder\\\n",
    "    .master(\"local\")\\\n",
    "    .appName(\"myApp\")\\\n",
    "    .config(conf=myConf)\\\n",
    "    .getOrCreate()"
   ]
  },
  {
   "cell_type": "code",
   "execution_count": 48,
   "id": "9f87feab",
   "metadata": {},
   "outputs": [],
   "source": [
    "sparkDf=spark.createDataFrame(iris)"
   ]
  },
  {
   "cell_type": "code",
   "execution_count": 49,
   "id": "c99c7fba",
   "metadata": {},
   "outputs": [],
   "source": [
    "(trainDf, testDf) = sparkDf.randomSplit([0.6, 0.4])"
   ]
  },
  {
   "cell_type": "code",
   "execution_count": 90,
   "id": "4d6fb7be",
   "metadata": {},
   "outputs": [],
   "source": [
    "from pyspark.ml.feature import VectorAssembler\n",
    "va = VectorAssembler(inputCols = ['petal_length'],\n",
    "                                   outputCol = 'features')"
   ]
  },
  {
   "cell_type": "code",
   "execution_count": 91,
   "id": "8531132a",
   "metadata": {},
   "outputs": [],
   "source": [
    "from pyspark.ml.regression import LinearRegression\n",
    "lr = LinearRegression(featuresCol = 'features', labelCol = 'petal_width', maxIter=10, regParam=0.3, elasticNetParam=0.8)"
   ]
  },
  {
   "cell_type": "code",
   "execution_count": 92,
   "id": "551d4383",
   "metadata": {},
   "outputs": [],
   "source": [
    "from pyspark.ml import Pipeline\n",
    "\n",
    "pipeline = Pipeline(stages=[va, lr])"
   ]
  },
  {
   "cell_type": "code",
   "execution_count": 93,
   "id": "4d18c502",
   "metadata": {},
   "outputs": [],
   "source": [
    "model = pipeline.fit(trainDf)\n",
    "modelTrainDf = model.transform(trainDf)"
   ]
  },
  {
   "cell_type": "code",
   "execution_count": 94,
   "id": "0fb0c1fe",
   "metadata": {},
   "outputs": [
    {
     "name": "stdout",
     "output_type": "stream",
     "text": [
      "Coefficients: [0.2629788970820525]\n",
      "Intercept: 0.233\n"
     ]
    }
   ],
   "source": [
    "print(\"Coefficients: {}\".format(model.stages[-1].coefficients))\n",
    "print(\"Intercept: {:.3f}\".format(model.stages[-1].intercept))"
   ]
  },
  {
   "cell_type": "markdown",
   "id": "ebf13782",
   "metadata": {},
   "source": [
    "### (4) 실제와 예측 출력"
   ]
  },
  {
   "cell_type": "code",
   "execution_count": 66,
   "id": "3d94e9fa",
   "metadata": {},
   "outputs": [],
   "source": [
    "ypred = regression.predict(xtest)"
   ]
  },
  {
   "cell_type": "code",
   "execution_count": 67,
   "id": "67f242c6",
   "metadata": {},
   "outputs": [],
   "source": [
    "y_actual_pred = pd.DataFrame({'Actual': ytest, 'Predicted': ypred})"
   ]
  },
  {
   "cell_type": "code",
   "execution_count": 70,
   "id": "985e4be0",
   "metadata": {},
   "outputs": [
    {
     "data": {
      "text/html": [
       "<div>\n",
       "<style scoped>\n",
       "    .dataframe tbody tr th:only-of-type {\n",
       "        vertical-align: middle;\n",
       "    }\n",
       "\n",
       "    .dataframe tbody tr th {\n",
       "        vertical-align: top;\n",
       "    }\n",
       "\n",
       "    .dataframe thead th {\n",
       "        text-align: right;\n",
       "    }\n",
       "</style>\n",
       "<table border=\"1\" class=\"dataframe\">\n",
       "  <thead>\n",
       "    <tr style=\"text-align: right;\">\n",
       "      <th></th>\n",
       "      <th>Actual</th>\n",
       "      <th>Predicted</th>\n",
       "    </tr>\n",
       "  </thead>\n",
       "  <tbody>\n",
       "    <tr>\n",
       "      <th>81</th>\n",
       "      <td>1.0</td>\n",
       "      <td>1.192235</td>\n",
       "    </tr>\n",
       "    <tr>\n",
       "      <th>86</th>\n",
       "      <td>1.5</td>\n",
       "      <td>1.611392</td>\n",
       "    </tr>\n",
       "    <tr>\n",
       "      <th>11</th>\n",
       "      <td>0.2</td>\n",
       "      <td>0.312006</td>\n",
       "    </tr>\n",
       "    <tr>\n",
       "      <th>25</th>\n",
       "      <td>0.2</td>\n",
       "      <td>0.312006</td>\n",
       "    </tr>\n",
       "    <tr>\n",
       "      <th>123</th>\n",
       "      <td>1.8</td>\n",
       "      <td>1.695223</td>\n",
       "    </tr>\n",
       "  </tbody>\n",
       "</table>\n",
       "</div>"
      ],
      "text/plain": [
       "     Actual  Predicted\n",
       "81      1.0   1.192235\n",
       "86      1.5   1.611392\n",
       "11      0.2   0.312006\n",
       "25      0.2   0.312006\n",
       "123     1.8   1.695223"
      ]
     },
     "execution_count": 70,
     "metadata": {},
     "output_type": "execute_result"
    }
   ],
   "source": [
    "y_actual_pred.head(5)"
   ]
  },
  {
   "cell_type": "code",
   "execution_count": 83,
   "id": "9e6d7ef5",
   "metadata": {},
   "outputs": [
    {
     "data": {
      "text/plain": [
       "[<matplotlib.lines.Line2D at 0x213cadfb940>]"
      ]
     },
     "execution_count": 83,
     "metadata": {},
     "output_type": "execute_result"
    },
    {
     "data": {
      "image/png": "[encoded data removed]",
      "text/plain": [
       "<Figure size 432x288 with 1 Axes>"
      ]
     },
     "metadata": {
      "needs_background": "light"
     },
     "output_type": "display_data"
    }
   ],
   "source": [
    "fig=plt.figure()\n",
    "ax=fig.add_subplot(111)\n",
    "ax.scatter(xtest,ytest)\n",
    "ax.set_ylabel('petal_length') \n",
    "ax.set_xlabel('petal_width')\n",
    "ax.plot(xtest,ypred)"
   ]
  },
  {
   "cell_type": "markdown",
   "id": "afe63a90",
   "metadata": {},
   "source": [
    "### (4) 정확성 평가하고 출력"
   ]
  },
  {
   "cell_type": "markdown",
   "id": "63d1236e",
   "metadata": {},
   "source": [
    "#### 모델에 대한 정확성"
   ]
  },
  {
   "cell_type": "code",
   "execution_count": 79,
   "id": "3dd594fc",
   "metadata": {},
   "outputs": [
    {
     "data": {
      "text/plain": [
       "'accuracy: 90.14%'"
      ]
     },
     "execution_count": 79,
     "metadata": {},
     "output_type": "execute_result"
    }
   ],
   "source": [
    "accuracy = regression.score(xtest,ytest)\n",
    "f\"accuracy: {accuracy*100:.2f}%\""
   ]
  },
  {
   "cell_type": "markdown",
   "id": "08108051",
   "metadata": {},
   "source": [
    "#### MSE"
   ]
  },
  {
   "cell_type": "code",
   "execution_count": 84,
   "id": "e000ac6a",
   "metadata": {},
   "outputs": [
    {
     "name": "stdout",
     "output_type": "stream",
     "text": [
      "Mean Squared Error: 0.05\n"
     ]
    }
   ],
   "source": [
    "print(\"Mean Squared Error: %.2f\" % np.mean((regression.predict(xtest) - ytest) ** 2))"
   ]
  },
  {
   "cell_type": "markdown",
   "id": "ce6e3629",
   "metadata": {},
   "source": [
    "#### $R^2$"
   ]
  },
  {
   "cell_type": "code",
   "execution_count": 85,
   "id": "25aead46",
   "metadata": {},
   "outputs": [
    {
     "data": {
      "text/plain": [
       "'r2: 0.901'"
      ]
     },
     "execution_count": 85,
     "metadata": {},
     "output_type": "execute_result"
    }
   ],
   "source": [
    "from sklearn.metrics import r2_score\n",
    "\n",
    "r2 = r2_score(ytest, ypred )\n",
    "f\"r2: {r2:.3f}\""
   ]
  }
 ],
 "metadata": {
  "kernelspec": {
   "display_name": "Python 3",
   "language": "python",
   "name": "python3"
  },
  "language_info": {
   "codemirror_mode": {
    "name": "ipython",
    "version": 3
   },
   "file_extension": ".py",
   "mimetype": "text/x-python",
   "name": "python",
   "nbconvert_exporter": "python",
   "pygments_lexer": "ipython3",
   "version": "3.8.8"
  }
 },
 "nbformat": 4,
 "nbformat_minor": 5
}
