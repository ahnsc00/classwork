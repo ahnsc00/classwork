{
 "cells": [
  {
   "cell_type": "markdown",
   "id": "330d5906",
   "metadata": {},
   "source": [
    "# 문제 1."
   ]
  },
  {
   "cell_type": "markdown",
   "id": "144d1478",
   "metadata": {},
   "source": [
    "서울시 동별 아파트 매매거래 현황"
   ]
  },
  {
   "cell_type": "code",
   "execution_count": 22,
   "id": "27a192a5",
   "metadata": {},
   "outputs": [
    {
     "data": {
      "text/plain": [
       "265416"
      ]
     },
     "execution_count": 22,
     "metadata": {},
     "output_type": "execute_result"
    }
   ],
   "source": [
    "import os\n",
    "from src import mylib\n",
    "import requests\n",
    "import json\n",
    "\n",
    "keyPath=os.path.join(os.getcwd(), 'src', 'key.properties')\n",
    "key=mylib.getKey(keyPath)\n",
    "\n",
    "_url='http://openAPI.seoul.go.kr:8088'\n",
    "_key=str(key['dataseoul'])\n",
    "_type='json'\n",
    "_service='ListNecessariesPricesService'\n",
    "_start_index=4001\n",
    "_end_index=5000\n",
    "_api=\"/\".join([_url,_key,_type,_service,str(_start_index),str(_end_index)])\n",
    "response = requests.get(_api).text\n",
    "\n",
    "fp=open(\"NecessariesPrices_5.json\",'a')\n",
    "fp.write(response)"
   ]
  },
  {
   "cell_type": "code",
   "execution_count": 33,
   "id": "3659e91e",
   "metadata": {},
   "outputs": [
    {
     "name": "stdout",
     "output_type": "stream",
     "text": [
      "마지막줄 출력 : {'P_SEQ': 1692651.0, 'M_SEQ': 98.0, 'M_NAME': '롯데백화점 노원점', 'A_SEQ': 306.0, 'A_NAME': '배(신고, 600g)', 'A_UNIT': '1개', 'A_PRICE': '10000', 'P_YEAR_MONTH': '2021-09', 'ADD_COL': '황금배', 'P_DATE': '2021-09-09', 'M_TYPE_CODE': '002', 'M_TYPE_NAME': '대형마트', 'M_GU_CODE': '350000', 'M_GU_NAME': '노원구'}\n",
      "현재까지 수집한 건수 : 1000\n"
     ]
    }
   ],
   "source": [
    "import json\n",
    "\n",
    "count = 0\n",
    "for line in open('NecessariesPrices.json', 'r').readlines():\n",
    "        dic=json.loads(line)\n",
    "for i in dic['ListNecessariesPricesService']['row']:\n",
    "    count += 1\n",
    "print (\"마지막줄 출력 : {}\".format(dic['ListNecessariesPricesService']['row'][count-1]))\n",
    "print(\"현재까지 수집한 건수 : {}\".format(count))"
   ]
  },
  {
   "cell_type": "code",
   "execution_count": 8,
   "id": "7fae4980",
   "metadata": {
    "scrolled": true
   },
   "outputs": [
    {
     "name": "stdout",
     "output_type": "stream",
     "text": [
      " C 드라이브의 볼륨: OS\n",
      " 볼륨 일련 번호: 9CB7-5096\n",
      "\n",
      " C:\\Users\\안성찬\\workspace\\201910810 디렉터리\n",
      "\n",
      "2021-09-19  오전 08:43           290,655 NecessariesPrices.json\n",
      "               1개 파일             290,655 바이트\n",
      "               0개 디렉터리  36,675,903,488 바이트 남음\n"
     ]
    }
   ],
   "source": [
    "!dir NecessariesPrices.json"
   ]
  },
  {
   "cell_type": "markdown",
   "id": "150721b4",
   "metadata": {},
   "source": [
    "하루에 1000건씩, 총 312630건을 읽으려면 한달이 걸리지만 동별, 월별 차이이기 때문에 날짜의 범위를 좁히면 더 적게 추출하여 분석이 가능합니다. "
   ]
  },
  {
   "cell_type": "markdown",
   "id": "5cb88180",
   "metadata": {},
   "source": [
    "1000건에 283KB (290,655 바이트)이니 30000건을 저장해도 3MB 정도로 무리 없이 저장할 수 있습니다."
   ]
  },
  {
   "cell_type": "markdown",
   "id": "39e33b72",
   "metadata": {},
   "source": [
    "### *문제 2, 3 스파크 설정"
   ]
  },
  {
   "cell_type": "code",
   "execution_count": 1,
   "id": "806ddbe2",
   "metadata": {},
   "outputs": [],
   "source": [
    "import pyspark\n",
    "import os\n",
    "os.environ[\"PYSPARK_PYTHON\"]='c:\\\\miniconda3\\\\python.exe'\n",
    "os.environ[\"PYSPARK_DRIVER_PYTHON\"]='c:\\\\miniconda3\\\\python.exe'"
   ]
  },
  {
   "cell_type": "code",
   "execution_count": 2,
   "id": "e9abc704",
   "metadata": {},
   "outputs": [],
   "source": [
    "myConf=pyspark.SparkConf()\n",
    "spark = pyspark.sql.SparkSession\\\n",
    "    .builder\\\n",
    "    .master(\"local\")\\\n",
    "    .appName(\"myApp\")\\\n",
    "    .config(conf=myConf)\\\n",
    "    .getOrCreate()"
   ]
  },
  {
   "cell_type": "markdown",
   "id": "0f218bc1",
   "metadata": {},
   "source": [
    "# 문제 2."
   ]
  },
  {
   "cell_type": "code",
   "execution_count": 19,
   "id": "309e0739",
   "metadata": {},
   "outputs": [
    {
     "data": {
      "text/plain": [
       "'3.1.2'"
      ]
     },
     "execution_count": 19,
     "metadata": {},
     "output_type": "execute_result"
    }
   ],
   "source": [
    "spark.version"
   ]
  },
  {
   "cell_type": "code",
   "execution_count": 10,
   "id": "2258d90a",
   "metadata": {},
   "outputs": [
    {
     "name": "stdout",
     "output_type": "stream",
     "text": [
      "java 11.0.12 2021-07-20 LTS\n",
      "Java(TM) SE Runtime Environment 18.9 (build 11.0.12+8-LTS-237)\n",
      "Java HotSpot(TM) 64-Bit Server VM 18.9 (build 11.0.12+8-LTS-237, mixed mode)\n"
     ]
    }
   ],
   "source": [
    "!java --version"
   ]
  },
  {
   "cell_type": "code",
   "execution_count": 11,
   "id": "81e7f3a5",
   "metadata": {},
   "outputs": [
    {
     "name": "stdout",
     "output_type": "stream",
     "text": [
      "javac 11.0.12\n"
     ]
    }
   ],
   "source": [
    "!javac --version"
   ]
  },
  {
   "cell_type": "code",
   "execution_count": 12,
   "id": "6b0a0729",
   "metadata": {},
   "outputs": [
    {
     "name": "stdout",
     "output_type": "stream",
     "text": [
      "Python 3.9.1\n"
     ]
    }
   ],
   "source": [
    "!python --version"
   ]
  },
  {
   "cell_type": "code",
   "execution_count": 14,
   "id": "b878e052",
   "metadata": {},
   "outputs": [
    {
     "name": "stdout",
     "output_type": "stream",
     "text": [
      "3.9.1 (default, Dec 11 2020, 09:29:25) [MSC v.1916 64 bit (AMD64)]\n"
     ]
    }
   ],
   "source": [
    "import sys\n",
    "print(sys.version)"
   ]
  },
  {
   "cell_type": "markdown",
   "id": "816b0ca8",
   "metadata": {},
   "source": [
    "# 문제 3."
   ]
  },
  {
   "cell_type": "markdown",
   "id": "d8307839",
   "metadata": {},
   "source": [
    "csv 파일은 ANSI로 인코딩 되어 있었다. 파일과 스파크 설정 사이의 인코딩 설정이 다르면 파일 깨짐이 발생할 수 있다. csv파일 인코딩 설정을 UTF-8로 하면 한글 깨짐 없이 출력할 수 있다."
   ]
  },
  {
   "cell_type": "markdown",
   "id": "002ce2a1",
   "metadata": {},
   "source": [
    "## 1)"
   ]
  },
  {
   "cell_type": "code",
   "execution_count": 21,
   "id": "8dfb1a16",
   "metadata": {},
   "outputs": [],
   "source": [
    "myRdd1=spark.sparkContext.textFile(os.path.join(\"data\",\"경기도 의정부시_인구현황_20210910.csv\"))"
   ]
  },
  {
   "cell_type": "code",
   "execution_count": 22,
   "id": "5fd7163f",
   "metadata": {},
   "outputs": [
    {
     "data": {
      "text/plain": [
       "['행정기관,인구수(계),인구수(남),인구수(여),구성비(계),구성비(남),구성비(여),성비,세대수,세대당인구,관리기관명,관리부서명,부서전화번호,데이터기준일자',\n",
       " '의정부1동,32292,16538,15754,6.97,3.57,3.4,104.98,19998,1.61,의정부시,민원여권과,031-828-2466,2021-09-10',\n",
       " '의정부2동,31380,15608,15772,6.77,3.37,3.4,98.96,16410,1.91,의정부시,민원여권과,031-828-2466,2021-09-10',\n",
       " '호원1동,36124,17595,18529,7.8,3.8,4,94.96,15653,2.31,의정부시,민원여권과,031-828-2466,2021-09-10',\n",
       " '호원2동,34957,16923,18034,7.54,3.65,3.89,93.84,13683,2.55,의정부시,민원여권과,031-828-2466,2021-09-10']"
      ]
     },
     "execution_count": 22,
     "metadata": {},
     "output_type": "execute_result"
    }
   ],
   "source": [
    "myRdd1.take(5)"
   ]
  },
  {
   "cell_type": "markdown",
   "id": "ae4b3386",
   "metadata": {},
   "source": [
    "## 2)"
   ]
  },
  {
   "cell_type": "code",
   "execution_count": 24,
   "id": "b23fdad3",
   "metadata": {},
   "outputs": [],
   "source": [
    "myRdd2=spark.sparkContext.textFile(os.path.join(\"data\",\"제주특별자치도 서귀포시_고령화비율및노령화지수현황_20210831.csv\"))"
   ]
  },
  {
   "cell_type": "code",
   "execution_count": 25,
   "id": "e288c73a",
   "metadata": {},
   "outputs": [
    {
     "data": {
      "text/plain": [
       "['연도별,서귀포시 인구수,65세이상 인구수 ,14세이하 인구수,고령화비율,노령화지수,데이터기준일자',\n",
       " '2012,154057,25826,22861,16.76,112.97,2021-08-31',\n",
       " '2013,155641,26936,22393,17.31,120.29,2021-08-31',\n",
       " '2014,158512,27877,22058,17.59,126.38,2021-08-31',\n",
       " '2015,164519,28979,22362,17.61,129.59,2021-08-31']"
      ]
     },
     "execution_count": 25,
     "metadata": {},
     "output_type": "execute_result"
    }
   ],
   "source": [
    "myRdd2.take(5)"
   ]
  }
 ],
 "metadata": {
  "kernelspec": {
   "display_name": "Python 3",
   "language": "python",
   "name": "python3"
  },
  "language_info": {
   "codemirror_mode": {
    "name": "ipython",
    "version": 3
   },
   "file_extension": ".py",
   "mimetype": "text/x-python",
   "name": "python",
   "nbconvert_exporter": "python",
   "pygments_lexer": "ipython3",
   "version": "3.8.8"
  }
 },
 "nbformat": 4,
 "nbformat_minor": 5
}
