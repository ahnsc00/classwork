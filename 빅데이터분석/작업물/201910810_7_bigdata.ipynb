{
 "cells": [
  {
   "cell_type": "code",
   "execution_count": 80,
   "id": "160a178a",
   "metadata": {},
   "outputs": [],
   "source": [
    "import pyspark\n",
    "import os\n",
    "from pyspark.sql.types import FloatType\n",
    "from pyspark.sql.functions import udf\n",
    "from scipy.stats import norm\n",
    "\n",
    "os.environ[\"PYSPARK_PYTHON\"]='C:\\\\Users\\\\201910810\\\\Anaconda3\\\\python.exe'\n",
    "os.environ[\"PYSPARK_DRIVER_PYTHON\"]='C:\\\\Users\\\\201910810\\\\Anaconda3\\\\python.exe'\n",
    "\n",
    "myConf=pyspark.SparkConf()\n",
    "spark = pyspark.sql.SparkSession\\\n",
    "    .builder\\\n",
    "    .master(\"local\")\\\n",
    "    .appName(\"myApp\")\\\n",
    "    .config(conf=myConf)\\\n",
    "    .getOrCreate()"
   ]
  },
  {
   "cell_type": "markdown",
   "id": "08530a0b",
   "metadata": {},
   "source": [
    "# 1-1 성적데이터로 DataFrame을 생성."
   ]
  },
  {
   "cell_type": "code",
   "execution_count": 81,
   "id": "6731d671",
   "metadata": {},
   "outputs": [],
   "source": [
    "data=[\n",
    "    \"'김하나','English', 100\",\n",
    "    \"'김하나','Math', 80\",\n",
    "    \"'임하나','English', 70\",\n",
    "    \"'임하나','Math', 100\",\n",
    "    \"'김갑돌','English', 82.3\",\n",
    "    \"'김갑돌','Math', 98.5\"\n",
    "]\n",
    "marks = spark.sparkContext.parallelize(data)"
   ]
  },
  {
   "cell_type": "code",
   "execution_count": 82,
   "id": "a8cca4ca",
   "metadata": {},
   "outputs": [
    {
     "name": "stdout",
     "output_type": "stream",
     "text": [
      "+--------+---------+-----+\n",
      "|    name|  subject| mark|\n",
      "+--------+---------+-----+\n",
      "|'김하나'|'English'|  100|\n",
      "|'김하나'|   'Math'|   80|\n",
      "|'임하나'|'English'|   70|\n",
      "|'임하나'|   'Math'|  100|\n",
      "|'김갑돌'|'English'| 82.3|\n",
      "|'김갑돌'|   'Math'| 98.5|\n",
      "+--------+---------+-----+\n",
      "\n"
     ]
    }
   ],
   "source": [
    "cols = ['name','subject','mark']\n",
    "marksDf=spark.createDataFrame(marks.map(lambda x:x.split(',')), cols)\n",
    "\n",
    "marksDf.show()"
   ]
  },
  {
   "cell_type": "markdown",
   "id": "dffdd38f",
   "metadata": {},
   "source": [
    "# 1-2 zscore 컬럼을 생성."
   ]
  },
  {
   "cell_type": "code",
   "execution_count": 83,
   "id": "f85d5dc9",
   "metadata": {},
   "outputs": [],
   "source": [
    "marksMean = marksDf.agg({\"mark\":\"mean\"}).take(1)[0][0]\n",
    "marksStd = marksDf.agg({\"mark\":\"stddev\"}).take(1)[0][0]"
   ]
  },
  {
   "cell_type": "code",
   "execution_count": 84,
   "id": "d80adc68",
   "metadata": {},
   "outputs": [
    {
     "name": "stdout",
     "output_type": "stream",
     "text": [
      "+--------+---------+-----+-----------+\n",
      "|    name|  subject| mark|     zscore|\n",
      "+--------+---------+-----+-----------+\n",
      "|'김하나'|'English'|  100| 0.90201485|\n",
      "|'김하나'|   'Math'|   80|-0.66217273|\n",
      "|'임하나'|'English'|   70| -1.4442666|\n",
      "|'임하나'|   'Math'|  100| 0.90201485|\n",
      "|'김갑돌'|'English'| 82.3|-0.48229116|\n",
      "|'김갑돌'|   'Math'| 98.5| 0.78470075|\n",
      "+--------+---------+-----+-----------+\n",
      "\n"
     ]
    }
   ],
   "source": [
    "floatUdf = udf(lambda x: float(x), FloatType())\n",
    "marksDf=marksDf.withColumn(\"markFloat\", floatUdf(marksDf['mark']))\n",
    "zscoreUdf = udf(lambda x: (x-marksMean)/marksStd, FloatType())\n",
    "marksDf=marksDf.withColumn(\"zscore\", zscoreUdf(marksDf['markFloat']))\n",
    "marksDf = marksDf.drop(\"markFloat\")\n",
    "marksDf.show()"
   ]
  },
  {
   "cell_type": "markdown",
   "id": "91302783",
   "metadata": {},
   "source": [
    "# 1-3 cdf 컬럼을 생성."
   ]
  },
  {
   "cell_type": "code",
   "execution_count": 85,
   "id": "88e99021",
   "metadata": {},
   "outputs": [
    {
     "name": "stdout",
     "output_type": "stream",
     "text": [
      "+--------+---------+-----+-----------+-------------------+\n",
      "|    name|  subject| mark|     zscore|                cdf|\n",
      "+--------+---------+-----+-----------+-------------------+\n",
      "|'김하나'|'English'|  100| 0.90201485| 0.8164755032306112|\n",
      "|'김하나'|   'Math'|   80|-0.66217273|0.25393026395894597|\n",
      "|'임하나'|'English'|   70| -1.4442666|0.07433201139097229|\n",
      "|'임하나'|   'Math'|  100| 0.90201485| 0.8164755032306112|\n",
      "|'김갑돌'|'English'| 82.3|-0.48229116|0.31479956212721427|\n",
      "|'김갑돌'|   'Math'| 98.5| 0.78470075| 0.7836854804484268|\n",
      "+--------+---------+-----+-----------+-------------------+\n",
      "\n"
     ]
    }
   ],
   "source": [
    "cdfUdf = udf(lambda x: float(norm.cdf(x)))\n",
    "marksDf=marksDf.withColumn(\"cdf\", cdfUdf(marksDf['zscore']))\n",
    "marksDf.show()"
   ]
  }
 ],
 "metadata": {
  "kernelspec": {
   "display_name": "Python 3",
   "language": "python",
   "name": "python3"
  },
  "language_info": {
   "codemirror_mode": {
    "name": "ipython",
    "version": 3
   },
   "file_extension": ".py",
   "mimetype": "text/x-python",
   "name": "python",
   "nbconvert_exporter": "python",
   "pygments_lexer": "ipython3",
   "version": "3.8.8"
  }
 },
 "nbformat": 4,
 "nbformat_minor": 5
}
