{
 "cells": [
  {
   "cell_type": "code",
   "execution_count": 54,
   "id": "ccde3cc2",
   "metadata": {},
   "outputs": [],
   "source": [
    "import numpy as np\n",
    "import matplotlib.pyplot as plt"
   ]
  },
  {
   "cell_type": "markdown",
   "id": "9eb2735b",
   "metadata": {},
   "source": [
    "## 1) matrix inverse method로 계수를 계산하고 출력,"
   ]
  },
  {
   "cell_type": "code",
   "execution_count": 55,
   "id": "61bafbc2",
   "metadata": {},
   "outputs": [],
   "source": [
    "x = np.array([[1,2],[1,4],[1,6]])\n",
    "y = np.array([3,6,7])"
   ]
  },
  {
   "cell_type": "code",
   "execution_count": 60,
   "id": "62a240c0",
   "metadata": {},
   "outputs": [],
   "source": [
    "w0, w1=np.dot(np.linalg.inv(np.dot(x.T, x)), np.dot(x.T, y))"
   ]
  },
  {
   "cell_type": "code",
   "execution_count": 61,
   "id": "ee80269a",
   "metadata": {},
   "outputs": [
    {
     "name": "stdout",
     "output_type": "stream",
     "text": [
      "계수 : 1.00, 1.33\n"
     ]
    }
   ],
   "source": [
    "print (\"계수 : {:0.2f}, {:0.2f}\".format(w1, w0))"
   ]
  },
  {
   "cell_type": "markdown",
   "id": "78550b4d",
   "metadata": {},
   "source": [
    "## 2) 예측과 실제의 오류 합계를 계산하고 출력,"
   ]
  },
  {
   "cell_type": "code",
   "execution_count": 73,
   "id": "47fb891d",
   "metadata": {},
   "outputs": [
    {
     "name": "stdout",
     "output_type": "stream",
     "text": [
      "예측값 : [3.33333333 5.33333333 7.33333333]\n",
      "y값 : [3 6 7]\n",
      "오류 제곱 합계 SSE : 0.6666666666666667\n"
     ]
    }
   ],
   "source": [
    "#절편제거\n",
    "realx = x[:,1] \n",
    "\n",
    "yhat=w0+w1*realx\n",
    "print(f\"예측값 : {yhat}\")\n",
    "print(f\"y값 : {y}\")\n",
    "SSE = np.sum(np.power(yhat-y,2))\n",
    "\n",
    "\n",
    "print(f\"오류 제곱 합계 SSE : {SSE}\")\n"
   ]
  },
  {
   "cell_type": "markdown",
   "id": "cec0c6b9",
   "metadata": {},
   "source": [
    "## 3) 입력 데이터와 회귀선의 그래프를 작성한다."
   ]
  },
  {
   "cell_type": "code",
   "execution_count": 74,
   "id": "5346a08e",
   "metadata": {},
   "outputs": [
    {
     "data": {
      "text/plain": [
       "[<matplotlib.lines.Line2D at 0x234d33df8b0>]"
      ]
     },
     "execution_count": 74,
     "metadata": {},
     "output_type": "execute_result"
    },
    {
     "data": {
      "image/png": "[encoded data removed]",
      "text/plain": [
       "<Figure size 432x288 with 1 Axes>"
      ]
     },
     "metadata": {
      "needs_background": "light"
     },
     "output_type": "display_data"
    }
   ],
   "source": [
    "%matplotlib inline\n",
    "\n",
    "fig=plt.figure()\n",
    "ax=fig.add_subplot(111)\n",
    "ax.scatter(realx,y)\n",
    "ax.plot(realx,yhat)"
   ]
  },
  {
   "cell_type": "code",
   "execution_count": null,
   "id": "7a77298f",
   "metadata": {},
   "outputs": [],
   "source": []
  }
 ],
 "metadata": {
  "kernelspec": {
   "display_name": "Python 3",
   "language": "python",
   "name": "python3"
  },
  "language_info": {
   "codemirror_mode": {
    "name": "ipython",
    "version": 3
   },
   "file_extension": ".py",
   "mimetype": "text/x-python",
   "name": "python",
   "nbconvert_exporter": "python",
   "pygments_lexer": "ipython3",
   "version": "3.8.8"
  }
 },
 "nbformat": 4,
 "nbformat_minor": 5
}
