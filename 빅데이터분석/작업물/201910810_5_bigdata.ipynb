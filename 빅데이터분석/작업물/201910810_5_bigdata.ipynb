{
 "cells": [
  {
   "cell_type": "code",
   "execution_count": 1,
   "id": "160a178a",
   "metadata": {},
   "outputs": [],
   "source": [
    "import pyspark\n",
    "import os\n",
    "\n",
    "os.environ[\"PYSPARK_PYTHON\"]='C:\\\\Users\\\\201910810\\\\Anaconda3\\\\python.exe'\n",
    "os.environ[\"PYSPARK_DRIVER_PYTHON\"]='C:\\\\Users\\\\201910810\\\\Anaconda3\\\\python.exe'\n",
    "\n",
    "myConf=pyspark.SparkConf()\n",
    "spark = pyspark.sql.SparkSession\\\n",
    "    .builder\\\n",
    "    .master(\"local\")\\\n",
    "    .appName(\"myApp\")\\\n",
    "    .config(conf=myConf)\\\n",
    "    .getOrCreate()"
   ]
  },
  {
   "cell_type": "code",
   "execution_count": 2,
   "id": "6731d671",
   "metadata": {},
   "outputs": [],
   "source": [
    "data=[\n",
    "    \"'김하나','English', 100\",\n",
    "    \"'김하나','Math', 80\",\n",
    "    \"'임하나','English', 70\",\n",
    "    \"'임하나','Math', 100\",\n",
    "    \"'김갑돌','English', 82.3\",\n",
    "    \"'김갑돌','Math', 98.5\"\n",
    "]\n",
    "marks = spark.sparkContext.parallelize(data)"
   ]
  },
  {
   "cell_type": "markdown",
   "id": "08530a0b",
   "metadata": {},
   "source": [
    "# 문제 3-1: 이름으로 합계를 구해보자."
   ]
  },
  {
   "cell_type": "code",
   "execution_count": 4,
   "id": "eab768dd",
   "metadata": {},
   "outputs": [],
   "source": [
    "marksByName=marks\\\n",
    "    .map(lambda x:x.split(','))\\\n",
    "    .map(lambda x: (x[0],float(x[2])))\\\n",
    "    .reduceByKey(lambda x, y:x+y)\\\n",
    "    .collect()"
   ]
  },
  {
   "cell_type": "code",
   "execution_count": 5,
   "id": "583b356b",
   "metadata": {},
   "outputs": [
    {
     "name": "stdout",
     "output_type": "stream",
     "text": [
      "'김하나' 180.0\n",
      "'임하나' 170.0\n",
      "'김갑돌' 180.8\n"
     ]
    }
   ],
   "source": [
    "for i in marksByName:\n",
    "  print (i[0],i[1])"
   ]
  },
  {
   "cell_type": "code",
   "execution_count": 10,
   "id": "f464a3ca",
   "metadata": {},
   "outputs": [
    {
     "name": "stdout",
     "output_type": "stream",
     "text": [
      "'김하나' 180.0 2\n",
      "'임하나' 170.0 2\n",
      "'김갑돌' 180.8 2\n"
     ]
    }
   ],
   "source": [
    "a = marks\\\n",
    "    .map(lambda x:x.split(','))\\\n",
    "    .map(lambda x:(x[0],1))\\\n",
    "    .reduceByKey(lambda x, y:x+y)\\\n",
    "    .collect()\n",
    "\n",
    "for i, j in zip(marksByName, a):\n",
    "  print (i[0],i[1], j[1])"
   ]
  },
  {
   "cell_type": "code",
   "execution_count": 9,
   "id": "82419c69",
   "metadata": {},
   "outputs": [
    {
     "data": {
      "text/plain": [
       "[(\"'김하나'\", 2), (\"'임하나'\", 2), (\"'김갑돌'\", 2)]"
      ]
     },
     "execution_count": 9,
     "metadata": {},
     "output_type": "execute_result"
    }
   ],
   "source": [
    "a"
   ]
  },
  {
   "cell_type": "markdown",
   "id": "91302783",
   "metadata": {},
   "source": [
    "# 문제 3-2: 과목으로 합계를 계산해 보자."
   ]
  },
  {
   "cell_type": "code",
   "execution_count": 7,
   "id": "3a817185",
   "metadata": {},
   "outputs": [],
   "source": [
    "marksBySubject=marks\\\n",
    "    .map(lambda x:x.split(','))\\\n",
    "    .map(lambda x: (x[1],float(x[2])))\\\n",
    "    .reduceByKey(lambda x, y:x+y)\\\n",
    "    .collect()"
   ]
  },
  {
   "cell_type": "code",
   "execution_count": 8,
   "id": "88e99021",
   "metadata": {},
   "outputs": [
    {
     "name": "stdout",
     "output_type": "stream",
     "text": [
      "'English' 252.3\n",
      "'Math' 278.5\n"
     ]
    }
   ],
   "source": [
    "for i in marksBySubject:\n",
    "  print (i[0],i[1])"
   ]
  },
  {
   "cell_type": "markdown",
   "id": "a387dd0d",
   "metadata": {},
   "source": [
    "# 문제 3-3: 이름으로 합계과 개수를 구해보자."
   ]
  },
  {
   "cell_type": "code",
   "execution_count": 11,
   "id": "71f15b22",
   "metadata": {},
   "outputs": [],
   "source": [
    "_marksByName2=marks\\\n",
    "    .map(lambda x:x.split(','))\\\n",
    "    .map(lambda x: (x[0],float(x[2])))"
   ]
  },
  {
   "cell_type": "code",
   "execution_count": 12,
   "id": "68575e49",
   "metadata": {},
   "outputs": [],
   "source": [
    "marksByName2 = _marksByName2.combineByKey(lambda value: (value,1),\n",
    "                     lambda x,value: (x[0]+value, x[1]+1),\n",
    "                     lambda x,y: (x, y))"
   ]
  },
  {
   "cell_type": "code",
   "execution_count": 15,
   "id": "9e664df2",
   "metadata": {},
   "outputs": [
    {
     "data": {
      "text/plain": [
       "[(\"'김하나'\", (180.0, 2)), (\"'임하나'\", (170.0, 2)), (\"'김갑돌'\", (180.8, 2))]"
      ]
     },
     "execution_count": 15,
     "metadata": {},
     "output_type": "execute_result"
    }
   ],
   "source": [
    "marksByName2.collect()"
   ]
  },
  {
   "cell_type": "code",
   "execution_count": 18,
   "id": "117aa5fc",
   "metadata": {},
   "outputs": [
    {
     "data": {
      "text/plain": [
       "[(\"'김하나'\", 90.0), (\"'임하나'\", 85.0), (\"'김갑돌'\", 90.4)]"
      ]
     },
     "execution_count": 18,
     "metadata": {},
     "output_type": "execute_result"
    }
   ],
   "source": [
    "marksByName2.map(lambda x:(x[0],x[1][0]/x[1][1])).collect()"
   ]
  },
  {
   "cell_type": "code",
   "execution_count": 36,
   "id": "a5c5b765",
   "metadata": {},
   "outputs": [
    {
     "name": "stdout",
     "output_type": "stream",
     "text": [
      "'김하나' (180.0, 2) \n",
      "'임하나' (170.0, 2) \n",
      "'김갑돌' (180.8, 2) \n"
     ]
    }
   ],
   "source": [
    "for i in marksByName2.collect():\n",
    "    for j in i:\n",
    "        print (j, end=' ')\n",
    "    print()"
   ]
  },
  {
   "cell_type": "markdown",
   "id": "5a493d44",
   "metadata": {},
   "source": [
    "# 문제 3-4: 이름으로 평균을 계산해 보자."
   ]
  },
  {
   "cell_type": "code",
   "execution_count": 37,
   "id": "b68db04e",
   "metadata": {},
   "outputs": [],
   "source": [
    "avgByKey = marksByName2.map(lambda x: (x[0],x[1][0]/x[1][1]))"
   ]
  },
  {
   "cell_type": "code",
   "execution_count": 39,
   "id": "b72351d4",
   "metadata": {},
   "outputs": [
    {
     "name": "stdout",
     "output_type": "stream",
     "text": [
      "'김하나' 90.0 \n",
      "'임하나' 85.0 \n",
      "'김갑돌' 90.4 \n"
     ]
    }
   ],
   "source": [
    "for i in avgByKey.collect():\n",
    "    for j in i:\n",
    "        print (j, end=' ')\n",
    "    print()"
   ]
  }
 ],
 "metadata": {
  "kernelspec": {
   "display_name": "Python 3",
   "language": "python",
   "name": "python3"
  },
  "language_info": {
   "codemirror_mode": {
    "name": "ipython",
    "version": 3
   },
   "file_extension": ".py",
   "mimetype": "text/x-python",
   "name": "python",
   "nbconvert_exporter": "python",
   "pygments_lexer": "ipython3",
   "version": "3.8.8"
  }
 },
 "nbformat": 4,
 "nbformat_minor": 5
}
