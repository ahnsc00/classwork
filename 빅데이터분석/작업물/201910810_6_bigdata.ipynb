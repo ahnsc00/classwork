{
 "cells": [
  {
   "cell_type": "code",
   "execution_count": 1,
   "id": "946644cf",
   "metadata": {},
   "outputs": [],
   "source": [
    "import pyspark\n",
    "import os\n",
    "import numpy as np\n",
    "import matplotlib.pyplot as plt\n",
    "\n",
    "os.environ[\"PYSPARK_PYTHON\"]='C:\\\\Users\\\\201910810\\\\Anaconda3\\\\python.exe'\n",
    "os.environ[\"PYSPARK_DRIVER_PYTHON\"]='C:\\\\Users\\\\201910810\\\\Anaconda3\\\\python.exe'\n",
    "\n",
    "myConf=pyspark.SparkConf()\n",
    "spark = pyspark.sql.SparkSession\\\n",
    "    .builder\\\n",
    "    .master(\"local\")\\\n",
    "    .appName(\"myApp\")\\\n",
    "    .config(conf=myConf)\\\n",
    "    .getOrCreate()"
   ]
  },
  {
   "cell_type": "code",
   "execution_count": 2,
   "id": "76d7d25d",
   "metadata": {},
   "outputs": [],
   "source": [
    "df = spark\\\n",
    "        .read\\\n",
    "        .format('com.databricks.spark.csv')\\\n",
    "        .options(header='True', inferschema='true', delimiter=',')\\\n",
    "        .load(os.path.join('data','서울특별시_공공자전거 일별 대여건수_(2018_2019.03).csv'))"
   ]
  },
  {
   "cell_type": "markdown",
   "id": "0bfcb7a4",
   "metadata": {},
   "source": [
    "### 문제 1-1: 년도별 대여건수 합계\n",
    "데이터는 2018, 2019년 15개월 간의 대여건수이다. 년도별로 대여건수의 합계를 계산해서 출력하자."
   ]
  },
  {
   "cell_type": "code",
   "execution_count": 3,
   "id": "e3738dc3",
   "metadata": {},
   "outputs": [
    {
     "name": "stdout",
     "output_type": "stream",
     "text": [
      "+----+------------------+\n",
      "|year|sum(rental_number)|\n",
      "+----+------------------+\n",
      "|2019|           1871935|\n",
      "|2018|          10124874|\n",
      "+----+------------------+\n",
      "\n"
     ]
    }
   ],
   "source": [
    "df=df.withColumn('year', df.rental_date.substr(1, 4))\n",
    "df.groupby(df['year']).agg({'rental_number':'sum'}).show()"
   ]
  },
  {
   "cell_type": "markdown",
   "id": "464fbe7c",
   "metadata": {},
   "source": [
    "### 문제 1-2: 년도별, 월별 대여건수 합계\n",
    "\n",
    "년별, 월별로 대여건수를 계산하여 합계를 계산하여 출력한다."
   ]
  },
  {
   "cell_type": "code",
   "execution_count": 4,
   "id": "8cbad091",
   "metadata": {},
   "outputs": [
    {
     "name": "stdout",
     "output_type": "stream",
     "text": [
      "+----+------+------+------+------+------+-------+-------+-------+-------+-------+------+------+\n",
      "|year|    01|    02|    03|    04|    05|     06|     07|     08|     09|     10|    11|    12|\n",
      "+----+------+------+------+------+------+-------+-------+-------+-------+-------+------+------+\n",
      "|2019|495573|471543|904819|  null|  null|   null|   null|   null|   null|   null|  null|  null|\n",
      "|2018|164367|168741|462661|687885|965609|1207123|1100015|1037505|1447993|1420621|961532|500822|\n",
      "+----+------+------+------+------+------+-------+-------+-------+-------+-------+------+------+\n",
      "\n"
     ]
    }
   ],
   "source": [
    "df=df.withColumn('month', df.rental_date.substr(6, 2))\n",
    "df.groupby(df['year']).pivot('month').agg({'rental_number':'sum'}).show()"
   ]
  },
  {
   "cell_type": "markdown",
   "id": "87beb53e",
   "metadata": {},
   "source": [
    "### 문제 1-3: 년도별, 월별 대여건수 그래프\n",
    "\n",
    "문제 1-2의 출력을 선 그래프로 그려보자."
   ]
  },
  {
   "cell_type": "code",
   "execution_count": 5,
   "id": "f86da620",
   "metadata": {},
   "outputs": [],
   "source": [
    "rental_sum = df.groupby(df['year']).pivot('month').agg({'rental_number':'sum'})"
   ]
  },
  {
   "cell_type": "code",
   "execution_count": 20,
   "id": "fb034f1d",
   "metadata": {},
   "outputs": [],
   "source": [
    "rental_sum_2018 = rental_sum.toPandas().iloc[0,1:].tolist()\n",
    "rental_sum_2019 = rental_sum.toPandas().iloc[1,1:].tolist()\n",
    "x = rental_sum.toPandas().columns.tolist()[1:]"
   ]
  },
  {
   "cell_type": "code",
   "execution_count": 29,
   "id": "01f55d0a",
   "metadata": {},
   "outputs": [
    {
     "data": {
      "image/png": "[encoded data removed]",
      "text/plain": [
       "<Figure size 432x288 with 1 Axes>"
      ]
     },
     "metadata": {
      "needs_background": "light"
     },
     "output_type": "display_data"
    }
   ],
   "source": [
    "plt.plot(x, rental_sum_2018)\n",
    "plt.plot(x, rental_sum_2019)\n",
    "plt.xlabel('year')\n",
    "plt.ylabel('rental sum')\n",
    "plt.legend(['2019', '2018'])\n",
    "plt.show()"
   ]
  }
 ],
 "metadata": {
  "kernelspec": {
   "display_name": "Python 3",
   "language": "python",
   "name": "python3"
  },
  "language_info": {
   "codemirror_mode": {
    "name": "ipython",
    "version": 3
   },
   "file_extension": ".py",
   "mimetype": "text/x-python",
   "name": "python",
   "nbconvert_exporter": "python",
   "pygments_lexer": "ipython3",
   "version": "3.8.8"
  }
 },
 "nbformat": 4,
 "nbformat_minor": 5
}
