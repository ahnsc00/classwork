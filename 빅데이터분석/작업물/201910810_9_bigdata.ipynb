{
 "cells": [
  {
   "cell_type": "code",
   "execution_count": 14,
   "id": "ae50aea1",
   "metadata": {},
   "outputs": [],
   "source": [
    "import json\n",
    "\n",
    "with open('NecessariesPrices_1.json', 'r') as f:\n",
    "    json_data_1 = json.load(f)\n",
    "with open('NecessariesPrices_2.json', 'r') as f:\n",
    "    json_data_2 = json.load(f)\n",
    "with open('NecessariesPrices_3.json', 'r') as f:\n",
    "    json_data_3 = json.load(f)\n",
    "with open('NecessariesPrices_4.json', 'r') as f:\n",
    "    json_data_4 = json.load(f)\n",
    "with open('NecessariesPrices_5.json', 'r') as f:\n",
    "    json_data_5 = json.load(f)"
   ]
  },
  {
   "cell_type": "code",
   "execution_count": 18,
   "id": "01bbe023",
   "metadata": {},
   "outputs": [],
   "source": [
    "json_data = json_data_1['ListNecessariesPricesService']['row']\\\n",
    "            +json_data_2['ListNecessariesPricesService']['row']\\\n",
    "            +json_data_3['ListNecessariesPricesService']['row']\\\n",
    "            +json_data_4['ListNecessariesPricesService']['row']\\\n",
    "            +json_data_5['ListNecessariesPricesService']['row']"
   ]
  },
  {
   "cell_type": "markdown",
   "id": "5226aed6",
   "metadata": {},
   "source": [
    "# 9-1 : 문제 설정"
   ]
  },
  {
   "cell_type": "markdown",
   "id": "bbf81e72",
   "metadata": {},
   "source": [
    "### 문제 (1) 구별로 물가에 얼마나 차이가 있는가? 평균 ~ , 상관관계\n",
    "### 문제 (2) 백화점과 시장은 얼마나 물가차이가 나는가?"
   ]
  },
  {
   "cell_type": "markdown",
   "id": "4cd7b5c7",
   "metadata": {},
   "source": [
    "# 9-2 : 문제의 답"
   ]
  },
  {
   "cell_type": "code",
   "execution_count": 23,
   "id": "b8a99be6",
   "metadata": {},
   "outputs": [],
   "source": [
    "import pyspark\n",
    "import os\n",
    "import numpy as np\n",
    "import matplotlib.pyplot as plt\n",
    "\n",
    "os.environ[\"PYSPARK_PYTHON\"]='C:\\\\Users\\\\201910810\\\\Anaconda3\\\\python.exe'\n",
    "os.environ[\"PYSPARK_DRIVER_PYTHON\"]='C:\\\\Users\\\\201910810\\\\Anaconda3\\\\python.exe'\n",
    "\n",
    "myConf=pyspark.SparkConf()\n",
    "spark = pyspark.sql.SparkSession\\\n",
    "    .builder\\\n",
    "    .master(\"local\")\\\n",
    "    .appName(\"myApp\")\\\n",
    "    .config(conf=myConf)\\\n",
    "    .getOrCreate()"
   ]
  },
  {
   "cell_type": "code",
   "execution_count": 25,
   "id": "dfd7a9c0",
   "metadata": {},
   "outputs": [],
   "source": [
    "df = spark.createDataFrame(json_data)"
   ]
  },
  {
   "cell_type": "markdown",
   "id": "6db66e69",
   "metadata": {},
   "source": [
    "### 문제 (1) 구별로 물가에 얼마나 차이가 있는가? 평균 ~ , 상관관계"
   ]
  },
  {
   "cell_type": "code",
   "execution_count": 64,
   "id": "76483d12",
   "metadata": {},
   "outputs": [
    {
     "name": "stdout",
     "output_type": "stream",
     "text": [
      "+---------+------------------+\n",
      "|M_GU_NAME|      avg(A_PRICE)|\n",
      "+---------+------------------+\n",
      "|   중랑구| 7852.107142857143|\n",
      "|   강남구| 7483.746606334842|\n",
      "|   노원구| 7193.612745098039|\n",
      "| 서대문구| 7146.200980392156|\n",
      "| 영등포구| 7063.380392156862|\n",
      "|     중구| 6988.069230769231|\n",
      "|   성북구|  6697.22794117647|\n",
      "|   서초구| 6681.099502487562|\n",
      "|   관악구| 6505.505882352942|\n",
      "|   송파구| 6440.019607843137|\n",
      "|   금천구|   6351.8407960199|\n",
      "| 동대문구| 6199.137254901961|\n",
      "|   용산구| 6178.226244343891|\n",
      "|   강북구| 6152.254901960784|\n",
      "|   구로구| 6063.112745098039|\n",
      "|   도봉구| 6010.980392156863|\n",
      "|   종로구| 6004.411764705882|\n",
      "|   강동구| 5980.735294117647|\n",
      "|   광진구| 5974.901960784314|\n",
      "|   동작구|5908.8725490196075|\n",
      "|   강서구|            5907.5|\n",
      "|   마포구| 5849.395721925133|\n",
      "|   은평구|  5684.47963800905|\n",
      "|   양천구| 5482.529411764706|\n",
      "|   성동구| 5413.838235294118|\n",
      "+---------+------------------+\n",
      "\n"
     ]
    }
   ],
   "source": [
    "from pyspark.sql.functions import desc\n",
    "df1 = df.groupBy('M_GU_NAME').avg('A_PRICE').sort(desc('avg(A_PRICE)'))\n",
    "df1.show(100)"
   ]
  },
  {
   "cell_type": "markdown",
   "id": "cbbf9b4a",
   "metadata": {},
   "source": [
    "중랑구의 평균물가가 가장 비싸고 성동구의 평균 물가가 가장 싸다."
   ]
  },
  {
   "cell_type": "markdown",
   "id": "faf436fe",
   "metadata": {},
   "source": [
    "### 문제 (2) 대형마트와 전통시장은 얼마나 물가차이가 나는가?"
   ]
  },
  {
   "cell_type": "code",
   "execution_count": 67,
   "id": "b5744dab",
   "metadata": {},
   "outputs": [
    {
     "name": "stdout",
     "output_type": "stream",
     "text": [
      "+---------+------------------+-----------------+\n",
      "|M_GU_NAME|          대형마트|         전통시장|\n",
      "+---------+------------------+-----------------+\n",
      "| 서대문구| 8437.107843137255|5855.294117647059|\n",
      "|   노원구| 8436.245098039215|5950.980392156863|\n",
      "|   중랑구|         8067.3125|7636.901785714285|\n",
      "|   강남구| 7947.075630252101|6943.196078431372|\n",
      "|   성북구| 7830.338235294118|5564.117647058823|\n",
      "| 영등포구| 7692.477124183007|6119.735294117647|\n",
      "|   관악구|  7605.14705882353|5772.411764705882|\n",
      "|     중구| 7504.481012658228|6188.137254901961|\n",
      "|   송파구| 7227.098039215686|5652.941176470588|\n",
      "| 동대문구| 7174.656862745098|5223.617647058823|\n",
      "|   서초구| 6907.233333333334|           6016.0|\n",
      "|   강북구|  6765.78431372549|5538.725490196079|\n",
      "|   용산구|6691.0672268907565|5579.911764705882|\n",
      "|   동작구|  6661.21568627451|5156.529411764706|\n",
      "|   구로구| 6617.401960784314|5508.823529411765|\n",
      "|   강동구| 6562.549019607844|5398.921568627451|\n",
      "|   금천구| 6394.411764705882|6307.979797979798|\n",
      "|   성동구| 6324.078431372549|4503.598039215686|\n",
      "|   도봉구| 6247.843137254902|5774.117647058823|\n",
      "|   광진구| 6207.254901960784|5742.549019607844|\n",
      "|   마포구| 6171.343137254902|5463.058823529412|\n",
      "|   강서구|  6126.64705882353| 5688.35294117647|\n",
      "|   은평구| 6084.621848739495| 5217.64705882353|\n",
      "|   양천구| 5142.901960784314|5822.156862745098|\n",
      "+---------+------------------+-----------------+\n",
      "\n"
     ]
    }
   ],
   "source": [
    "df2 = df.groupBy('M_GU_NAME').pivot('M_TYPE_NAME').avg('A_PRICE').sort(desc('대형마트')).na.drop()\n",
    "df2.show(100)"
   ]
  },
  {
   "cell_type": "markdown",
   "id": "95e8a07a",
   "metadata": {},
   "source": [
    "대부분의 전통시장이 더 싸지만 양천구는 대형마트가 더 싸다."
   ]
  },
  {
   "cell_type": "code",
   "execution_count": 86,
   "id": "aac8f5af",
   "metadata": {},
   "outputs": [
    {
     "data": {
      "image/png": "[encoded data removed]",
      "text/plain": [
       "<Figure size 864x288 with 1 Axes>"
      ]
     },
     "metadata": {
      "needs_background": "light"
     },
     "output_type": "display_data"
    }
   ],
   "source": [
    "%matplotlib inline\n",
    "import numpy as np\n",
    "import matplotlib as mpl \n",
    "import matplotlib.pyplot as plt\n",
    "\n",
    "mpl.rc('font', family = 'Malgun Gothic')\n",
    "\n",
    "dfPandas = df2.toPandas().dropna()\n",
    "ax = dfPandas.plot(kind='bar', title='구별 대형마트와 전통시장 물가 비교', figsize=(12, 4), legend=True)\n",
    "ax.legend(['대형마트', '전통시장'])\n",
    "\n",
    "\n",
    "x_labels = dfPandas.M_GU_NAME.tolist()\n",
    "ax = ax.set_xticklabels(x_labels)"
   ]
  }
 ],
 "metadata": {
  "kernelspec": {
   "display_name": "Python 3",
   "language": "python",
   "name": "python3"
  },
  "language_info": {
   "codemirror_mode": {
    "name": "ipython",
    "version": 3
   },
   "file_extension": ".py",
   "mimetype": "text/x-python",
   "name": "python",
   "nbconvert_exporter": "python",
   "pygments_lexer": "ipython3",
   "version": "3.8.8"
  }
 },
 "nbformat": 4,
 "nbformat_minor": 5
}
