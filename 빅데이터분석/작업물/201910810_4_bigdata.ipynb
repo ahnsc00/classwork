{
 "cells": [
  {
   "cell_type": "markdown",
   "metadata": {
    "id": "HGuxqfO1k7SP"
   },
   "source": [
    "텍스트 파일을 읽고 pyspark으로 RDD를 생성하여, 단어빈도를 계산하는 프로그램을 작성하세요.\n",
    "\n",
    "단어빈도를 내림차순으로 출력해서 상위 15개를 출력하세요."
   ]
  },
  {
   "cell_type": "code",
   "execution_count": 5,
   "metadata": {
    "colab": {
     "base_uri": "https://localhost:8080/"
    },
    "id": "5glEa1oumsqm",
    "outputId": "a4c31567-f30e-4341-bc68-dc2b3203fde2"
   },
   "outputs": [
    {
     "name": "stdout",
     "output_type": "stream",
     "text": [
      "Collecting findspark\n",
      "  Downloading findspark-1.4.2-py2.py3-none-any.whl (4.2 kB)\n",
      "Installing collected packages: findspark\n",
      "Successfully installed findspark-1.4.2\n"
     ]
    }
   ],
   "source": [
    "!apt-get install openjdk-11-jdk-headless -qq > /dev/null\n",
    "!wget -q https://downloads.apache.org/spark/spark-3.1.2/spark-3.1.2-bin-hadoop2.7.tgz\n",
    "!tar -xf spark-3.1.2-bin-hadoop2.7.tgz\n",
    "!pip install findspark\n",
    "\n",
    "import os\n",
    "os.environ[\"JAVA_HOME\"] = \"/usr/lib/jvm/java-11-openjdk-amd64\"\n",
    "os.environ[\"SPARK_HOME\"] = \"/content/spark-3.1.2-bin-hadoop2.7\"\n",
    "\n",
    "import findspark\n",
    "findspark.init()\n",
    "\n",
    "import pyspark\n",
    "myConf=pyspark.SparkConf()\n",
    "#myConf=pyspark.SparkConf().set(\"spark.driver.bindAddress\", \"127.0.0.1\")\n",
    "spark = pyspark.sql.SparkSession\\\n",
    "    .builder\\\n",
    "    .master(\"local\")\\\n",
    "    .appName(\"myApp\")\\\n",
    "    .config(conf=myConf)\\\n",
    "    .getOrCreate()"
   ]
  },
  {
   "cell_type": "code",
   "execution_count": 22,
   "metadata": {
    "id": "qcp3NdFYjSUQ"
   },
   "outputs": [],
   "source": [
    "myRdd=spark.sparkContext.textFile(os.path.join(\"ds_bigdata_wiki.txt\"))"
   ]
  },
  {
   "cell_type": "code",
   "execution_count": 79,
   "metadata": {
    "colab": {
     "base_uri": "https://localhost:8080/"
    },
    "id": "cZG1kHwKmqvV",
    "outputId": "b1e8ec84-0b99-4bb3-a535-f7dcbe50e950"
   },
   "outputs": [
    {
     "data": {
      "text/plain": [
       "[('데이터', 21),\n",
       " ('데이터를', 18),\n",
       " ('및', 15),\n",
       " ('빅', 14),\n",
       " ('등', 12),\n",
       " ('있다.', 9),\n",
       " ('수', 8),\n",
       " ('데이터의', 8),\n",
       " ('미국', 7),\n",
       " ('통해', 7),\n",
       " ('유권자', 6),\n",
       " ('선거', 6),\n",
       " ('대한', 6),\n",
       " ('빅데이터', 6),\n",
       " ('활용한', 5)]"
      ]
     },
     "execution_count": 79,
     "metadata": {},
     "output_type": "execute_result"
    }
   ],
   "source": [
    "myRdd\\\n",
    "    .flatMap(lambda x:x.split())\\\n",
    "    .map(lambda x:(x,1))\\\n",
    "    .groupByKey()\\\n",
    "    .mapValues(sum)\\\n",
    "    .sortBy(lambda a: -a[1])\\\n",
    "    .take(15)"
   ]
  }
 ],
 "metadata": {
  "colab": {
   "name": "201910810_4_bigdata.ipynb",
   "provenance": []
  },
  "kernelspec": {
   "display_name": "Python 3",
   "language": "python",
   "name": "python3"
  },
  "language_info": {
   "codemirror_mode": {
    "name": "ipython",
    "version": 3
   },
   "file_extension": ".py",
   "mimetype": "text/x-python",
   "name": "python",
   "nbconvert_exporter": "python",
   "pygments_lexer": "ipython3",
   "version": "3.8.8"
  }
 },
 "nbformat": 4,
 "nbformat_minor": 1
}
